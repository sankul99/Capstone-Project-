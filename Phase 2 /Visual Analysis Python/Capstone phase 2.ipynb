{
 "cells": [
  {
   "cell_type": "code",
   "execution_count": 2,
   "id": "a07b77f9",
   "metadata": {},
   "outputs": [],
   "source": [
    "import pandas as pd\n",
    "import matplotlib.pyplot\n",
    "import matplotlib.pyplot as plt\n",
    "import seaborn as sns\n",
    "import plotly.express as px"
   ]
  },
  {
   "cell_type": "markdown",
   "id": "b50cdaee",
   "metadata": {},
   "source": [
    "<br><font face = \"Times New Roman\" size = \"4\"> <b>Name: Sankul Pandey  DS0722\n",
    "<br><font face = \"Times New Roman\" size = \"4\"> <b>Email: sankul99@gmail.com"
   ]
  },
  {
   "cell_type": "markdown",
   "id": "614f089b",
   "metadata": {},
   "source": [
    "All the necessary libraries used for this particular analysis are loaded above "
   ]
  },
  {
   "cell_type": "markdown",
   "id": "ed065003",
   "metadata": {},
   "source": [
    "## Loading of data\n",
    "\n",
    "In this particular part we are loading all the possible data that was given to us as a prerequisite along with the data that we collected in the first phase of the capstone project. "
   ]
  },
  {
   "cell_type": "code",
   "execution_count": 3,
   "id": "7fbd3078",
   "metadata": {},
   "outputs": [],
   "source": [
    "df_crimes = pd.read_csv(r'C:\\Users\\sanku\\OneDrive\\Desktop\\India_Crime - Copy\\India_Crime - Copy\\01_District_wise_crimes_committed_IPC_2001_2012.csv')\n",
    "df_literacy = pd.read_csv(r'C:\\Users\\sanku\\OneDrive\\Desktop\\Capstone\\Phase 1\\state_wise_literacy_rate.csv')\n",
    "df_population = pd.read_csv(r'C:\\Users\\sanku\\OneDrive\\Desktop\\Capstone\\Phase 1\\state_wise_population.csv')\n",
    "df_area = pd.read_csv(r'C:\\Users\\sanku\\OneDrive\\Desktop\\Capstone\\Phase 1\\state_wise_area.csv')"
   ]
  },
  {
   "cell_type": "code",
   "execution_count": 4,
   "id": "d63d3649",
   "metadata": {},
   "outputs": [
    {
     "data": {
      "text/html": [
       "<div>\n",
       "<style scoped>\n",
       "    .dataframe tbody tr th:only-of-type {\n",
       "        vertical-align: middle;\n",
       "    }\n",
       "\n",
       "    .dataframe tbody tr th {\n",
       "        vertical-align: top;\n",
       "    }\n",
       "\n",
       "    .dataframe thead th {\n",
       "        text-align: right;\n",
       "    }\n",
       "</style>\n",
       "<table border=\"1\" class=\"dataframe\">\n",
       "  <thead>\n",
       "    <tr style=\"text-align: right;\">\n",
       "      <th></th>\n",
       "      <th>STATE/UT</th>\n",
       "      <th>DISTRICT</th>\n",
       "      <th>YEAR</th>\n",
       "      <th>MURDER</th>\n",
       "      <th>ATTEMPT TO MURDER</th>\n",
       "      <th>CULPABLE HOMICIDE NOT AMOUNTING TO MURDER</th>\n",
       "      <th>RAPE</th>\n",
       "      <th>CUSTODIAL RAPE</th>\n",
       "      <th>OTHER RAPE</th>\n",
       "      <th>KIDNAPPING &amp; ABDUCTION</th>\n",
       "      <th>...</th>\n",
       "      <th>ARSON</th>\n",
       "      <th>HURT/GREVIOUS HURT</th>\n",
       "      <th>DOWRY DEATHS</th>\n",
       "      <th>ASSAULT ON WOMEN WITH INTENT TO OUTRAGE HER MODESTY</th>\n",
       "      <th>INSULT TO MODESTY OF WOMEN</th>\n",
       "      <th>CRUELTY BY HUSBAND OR HIS RELATIVES</th>\n",
       "      <th>IMPORTATION OF GIRLS FROM FOREIGN COUNTRIES</th>\n",
       "      <th>CAUSING DEATH BY NEGLIGENCE</th>\n",
       "      <th>OTHER IPC CRIMES</th>\n",
       "      <th>TOTAL IPC CRIMES</th>\n",
       "    </tr>\n",
       "  </thead>\n",
       "  <tbody>\n",
       "    <tr>\n",
       "      <th>0</th>\n",
       "      <td>ANDHRA PRADESH</td>\n",
       "      <td>ADILABAD</td>\n",
       "      <td>2001</td>\n",
       "      <td>101</td>\n",
       "      <td>60</td>\n",
       "      <td>17</td>\n",
       "      <td>50</td>\n",
       "      <td>0</td>\n",
       "      <td>50</td>\n",
       "      <td>46</td>\n",
       "      <td>...</td>\n",
       "      <td>30</td>\n",
       "      <td>1131</td>\n",
       "      <td>16</td>\n",
       "      <td>149</td>\n",
       "      <td>34</td>\n",
       "      <td>175</td>\n",
       "      <td>0</td>\n",
       "      <td>181</td>\n",
       "      <td>1518</td>\n",
       "      <td>4154</td>\n",
       "    </tr>\n",
       "    <tr>\n",
       "      <th>1</th>\n",
       "      <td>ANDHRA PRADESH</td>\n",
       "      <td>ANANTAPUR</td>\n",
       "      <td>2001</td>\n",
       "      <td>151</td>\n",
       "      <td>125</td>\n",
       "      <td>1</td>\n",
       "      <td>23</td>\n",
       "      <td>0</td>\n",
       "      <td>23</td>\n",
       "      <td>53</td>\n",
       "      <td>...</td>\n",
       "      <td>69</td>\n",
       "      <td>1543</td>\n",
       "      <td>7</td>\n",
       "      <td>118</td>\n",
       "      <td>24</td>\n",
       "      <td>154</td>\n",
       "      <td>0</td>\n",
       "      <td>270</td>\n",
       "      <td>754</td>\n",
       "      <td>4125</td>\n",
       "    </tr>\n",
       "    <tr>\n",
       "      <th>2</th>\n",
       "      <td>ANDHRA PRADESH</td>\n",
       "      <td>CHITTOOR</td>\n",
       "      <td>2001</td>\n",
       "      <td>101</td>\n",
       "      <td>57</td>\n",
       "      <td>2</td>\n",
       "      <td>27</td>\n",
       "      <td>0</td>\n",
       "      <td>27</td>\n",
       "      <td>59</td>\n",
       "      <td>...</td>\n",
       "      <td>38</td>\n",
       "      <td>2088</td>\n",
       "      <td>14</td>\n",
       "      <td>112</td>\n",
       "      <td>83</td>\n",
       "      <td>186</td>\n",
       "      <td>0</td>\n",
       "      <td>404</td>\n",
       "      <td>1262</td>\n",
       "      <td>5818</td>\n",
       "    </tr>\n",
       "    <tr>\n",
       "      <th>3</th>\n",
       "      <td>ANDHRA PRADESH</td>\n",
       "      <td>CUDDAPAH</td>\n",
       "      <td>2001</td>\n",
       "      <td>80</td>\n",
       "      <td>53</td>\n",
       "      <td>1</td>\n",
       "      <td>20</td>\n",
       "      <td>0</td>\n",
       "      <td>20</td>\n",
       "      <td>25</td>\n",
       "      <td>...</td>\n",
       "      <td>23</td>\n",
       "      <td>795</td>\n",
       "      <td>17</td>\n",
       "      <td>126</td>\n",
       "      <td>38</td>\n",
       "      <td>57</td>\n",
       "      <td>0</td>\n",
       "      <td>233</td>\n",
       "      <td>1181</td>\n",
       "      <td>3140</td>\n",
       "    </tr>\n",
       "    <tr>\n",
       "      <th>4</th>\n",
       "      <td>ANDHRA PRADESH</td>\n",
       "      <td>EAST GODAVARI</td>\n",
       "      <td>2001</td>\n",
       "      <td>82</td>\n",
       "      <td>67</td>\n",
       "      <td>1</td>\n",
       "      <td>23</td>\n",
       "      <td>0</td>\n",
       "      <td>23</td>\n",
       "      <td>49</td>\n",
       "      <td>...</td>\n",
       "      <td>41</td>\n",
       "      <td>1244</td>\n",
       "      <td>12</td>\n",
       "      <td>109</td>\n",
       "      <td>58</td>\n",
       "      <td>247</td>\n",
       "      <td>0</td>\n",
       "      <td>431</td>\n",
       "      <td>2313</td>\n",
       "      <td>6507</td>\n",
       "    </tr>\n",
       "  </tbody>\n",
       "</table>\n",
       "<p>5 rows × 33 columns</p>\n",
       "</div>"
      ],
      "text/plain": [
       "         STATE/UT       DISTRICT  YEAR  MURDER  ATTEMPT TO MURDER  \\\n",
       "0  ANDHRA PRADESH       ADILABAD  2001     101                 60   \n",
       "1  ANDHRA PRADESH      ANANTAPUR  2001     151                125   \n",
       "2  ANDHRA PRADESH       CHITTOOR  2001     101                 57   \n",
       "3  ANDHRA PRADESH       CUDDAPAH  2001      80                 53   \n",
       "4  ANDHRA PRADESH  EAST GODAVARI  2001      82                 67   \n",
       "\n",
       "   CULPABLE HOMICIDE NOT AMOUNTING TO MURDER  RAPE  CUSTODIAL RAPE  \\\n",
       "0                                         17    50               0   \n",
       "1                                          1    23               0   \n",
       "2                                          2    27               0   \n",
       "3                                          1    20               0   \n",
       "4                                          1    23               0   \n",
       "\n",
       "   OTHER RAPE  KIDNAPPING & ABDUCTION  ...  ARSON  HURT/GREVIOUS HURT  \\\n",
       "0          50                      46  ...     30                1131   \n",
       "1          23                      53  ...     69                1543   \n",
       "2          27                      59  ...     38                2088   \n",
       "3          20                      25  ...     23                 795   \n",
       "4          23                      49  ...     41                1244   \n",
       "\n",
       "   DOWRY DEATHS  ASSAULT ON WOMEN WITH INTENT TO OUTRAGE HER MODESTY  \\\n",
       "0            16                                                149     \n",
       "1             7                                                118     \n",
       "2            14                                                112     \n",
       "3            17                                                126     \n",
       "4            12                                                109     \n",
       "\n",
       "   INSULT TO MODESTY OF WOMEN  CRUELTY BY HUSBAND OR HIS RELATIVES  \\\n",
       "0                          34                                  175   \n",
       "1                          24                                  154   \n",
       "2                          83                                  186   \n",
       "3                          38                                   57   \n",
       "4                          58                                  247   \n",
       "\n",
       "   IMPORTATION OF GIRLS FROM FOREIGN COUNTRIES  CAUSING DEATH BY NEGLIGENCE  \\\n",
       "0                                            0                          181   \n",
       "1                                            0                          270   \n",
       "2                                            0                          404   \n",
       "3                                            0                          233   \n",
       "4                                            0                          431   \n",
       "\n",
       "   OTHER IPC CRIMES  TOTAL IPC CRIMES  \n",
       "0              1518              4154  \n",
       "1               754              4125  \n",
       "2              1262              5818  \n",
       "3              1181              3140  \n",
       "4              2313              6507  \n",
       "\n",
       "[5 rows x 33 columns]"
      ]
     },
     "execution_count": 4,
     "metadata": {},
     "output_type": "execute_result"
    }
   ],
   "source": [
    "df_crimes.head()"
   ]
  },
  {
   "cell_type": "code",
   "execution_count": 5,
   "id": "82b5f25f",
   "metadata": {},
   "outputs": [
    {
     "data": {
      "text/html": [
       "<div>\n",
       "<style scoped>\n",
       "    .dataframe tbody tr th:only-of-type {\n",
       "        vertical-align: middle;\n",
       "    }\n",
       "\n",
       "    .dataframe tbody tr th {\n",
       "        vertical-align: top;\n",
       "    }\n",
       "\n",
       "    .dataframe thead th {\n",
       "        text-align: right;\n",
       "    }\n",
       "</style>\n",
       "<table border=\"1\" class=\"dataframe\">\n",
       "  <thead>\n",
       "    <tr style=\"text-align: right;\">\n",
       "      <th></th>\n",
       "      <th>STATE/UT</th>\n",
       "      <th>State_drop</th>\n",
       "      <th>Population</th>\n",
       "    </tr>\n",
       "  </thead>\n",
       "  <tbody>\n",
       "    <tr>\n",
       "      <th>0</th>\n",
       "      <td>A &amp; N ISLANDS</td>\n",
       "      <td>A &amp; N ISLANDS</td>\n",
       "      <td>380,581</td>\n",
       "    </tr>\n",
       "    <tr>\n",
       "      <th>1</th>\n",
       "      <td>ANDHRA PRADESH</td>\n",
       "      <td>Andhra Pradesh</td>\n",
       "      <td>84,580,777</td>\n",
       "    </tr>\n",
       "    <tr>\n",
       "      <th>2</th>\n",
       "      <td>ARUNACHAL PRADESH</td>\n",
       "      <td>Arunachal Pradesh</td>\n",
       "      <td>1,383,727</td>\n",
       "    </tr>\n",
       "    <tr>\n",
       "      <th>3</th>\n",
       "      <td>ASSAM</td>\n",
       "      <td>Assam</td>\n",
       "      <td>31,169,272</td>\n",
       "    </tr>\n",
       "    <tr>\n",
       "      <th>4</th>\n",
       "      <td>BIHAR</td>\n",
       "      <td>Bihar</td>\n",
       "      <td>104,099,452</td>\n",
       "    </tr>\n",
       "  </tbody>\n",
       "</table>\n",
       "</div>"
      ],
      "text/plain": [
       "            STATE/UT         State_drop   Population\n",
       "0      A & N ISLANDS      A & N ISLANDS      380,581\n",
       "1     ANDHRA PRADESH     Andhra Pradesh   84,580,777\n",
       "2  ARUNACHAL PRADESH  Arunachal Pradesh    1,383,727\n",
       "3              ASSAM              Assam   31,169,272\n",
       "4              BIHAR              Bihar  104,099,452"
      ]
     },
     "execution_count": 5,
     "metadata": {},
     "output_type": "execute_result"
    }
   ],
   "source": [
    "df_population.head()"
   ]
  },
  {
   "cell_type": "code",
   "execution_count": 6,
   "id": "f575783c",
   "metadata": {},
   "outputs": [
    {
     "data": {
      "text/html": [
       "<div>\n",
       "<style scoped>\n",
       "    .dataframe tbody tr th:only-of-type {\n",
       "        vertical-align: middle;\n",
       "    }\n",
       "\n",
       "    .dataframe tbody tr th {\n",
       "        vertical-align: top;\n",
       "    }\n",
       "\n",
       "    .dataframe thead th {\n",
       "        text-align: right;\n",
       "    }\n",
       "</style>\n",
       "<table border=\"1\" class=\"dataframe\">\n",
       "  <thead>\n",
       "    <tr style=\"text-align: right;\">\n",
       "      <th></th>\n",
       "      <th>STATE/UT</th>\n",
       "      <th>State_drop</th>\n",
       "      <th>2011 Literacy Rate (%)</th>\n",
       "    </tr>\n",
       "  </thead>\n",
       "  <tbody>\n",
       "    <tr>\n",
       "      <th>0</th>\n",
       "      <td>A &amp; N ISLANDS</td>\n",
       "      <td>A &amp; N ISLANDS</td>\n",
       "      <td>86.27</td>\n",
       "    </tr>\n",
       "    <tr>\n",
       "      <th>1</th>\n",
       "      <td>ANDHRA PRADESH</td>\n",
       "      <td>ANDHRA PRADESH</td>\n",
       "      <td>67.66</td>\n",
       "    </tr>\n",
       "    <tr>\n",
       "      <th>2</th>\n",
       "      <td>ARUNACHAL PRADESH</td>\n",
       "      <td>ARUNACHAL PRADESH</td>\n",
       "      <td>66.95</td>\n",
       "    </tr>\n",
       "    <tr>\n",
       "      <th>3</th>\n",
       "      <td>ASSAM</td>\n",
       "      <td>ASSAM</td>\n",
       "      <td>72.19</td>\n",
       "    </tr>\n",
       "    <tr>\n",
       "      <th>4</th>\n",
       "      <td>CHANDIGARH</td>\n",
       "      <td>CHANDIGARH</td>\n",
       "      <td>63.82</td>\n",
       "    </tr>\n",
       "  </tbody>\n",
       "</table>\n",
       "</div>"
      ],
      "text/plain": [
       "            STATE/UT         State_drop  2011 Literacy Rate (%)\n",
       "0      A & N ISLANDS      A & N ISLANDS                   86.27\n",
       "1     ANDHRA PRADESH     ANDHRA PRADESH                   67.66\n",
       "2  ARUNACHAL PRADESH  ARUNACHAL PRADESH                   66.95\n",
       "3              ASSAM              ASSAM                   72.19\n",
       "4         CHANDIGARH         CHANDIGARH                   63.82"
      ]
     },
     "execution_count": 6,
     "metadata": {},
     "output_type": "execute_result"
    }
   ],
   "source": [
    "df_literacy.head()"
   ]
  },
  {
   "cell_type": "code",
   "execution_count": 7,
   "id": "0e18e547",
   "metadata": {},
   "outputs": [
    {
     "data": {
      "text/html": [
       "<div>\n",
       "<style scoped>\n",
       "    .dataframe tbody tr th:only-of-type {\n",
       "        vertical-align: middle;\n",
       "    }\n",
       "\n",
       "    .dataframe tbody tr th {\n",
       "        vertical-align: top;\n",
       "    }\n",
       "\n",
       "    .dataframe thead th {\n",
       "        text-align: right;\n",
       "    }\n",
       "</style>\n",
       "<table border=\"1\" class=\"dataframe\">\n",
       "  <thead>\n",
       "    <tr style=\"text-align: right;\">\n",
       "      <th></th>\n",
       "      <th>STATE/UT</th>\n",
       "      <th>State_drop</th>\n",
       "      <th>Area (in square kilometers)</th>\n",
       "    </tr>\n",
       "  </thead>\n",
       "  <tbody>\n",
       "    <tr>\n",
       "      <th>0</th>\n",
       "      <td>A &amp; N ISLANDS</td>\n",
       "      <td>A &amp; N ISLANDS</td>\n",
       "      <td>8,249</td>\n",
       "    </tr>\n",
       "    <tr>\n",
       "      <th>1</th>\n",
       "      <td>ANDHRA PRADESH</td>\n",
       "      <td>Andhra Pradesh</td>\n",
       "      <td>160,205</td>\n",
       "    </tr>\n",
       "    <tr>\n",
       "      <th>2</th>\n",
       "      <td>ARUNACHAL PRADESH</td>\n",
       "      <td>Arunachal Pradesh</td>\n",
       "      <td>83,743</td>\n",
       "    </tr>\n",
       "    <tr>\n",
       "      <th>3</th>\n",
       "      <td>ASSAM</td>\n",
       "      <td>Assam</td>\n",
       "      <td>78,438</td>\n",
       "    </tr>\n",
       "    <tr>\n",
       "      <th>4</th>\n",
       "      <td>BIHAR</td>\n",
       "      <td>Bihar</td>\n",
       "      <td>94,163</td>\n",
       "    </tr>\n",
       "  </tbody>\n",
       "</table>\n",
       "</div>"
      ],
      "text/plain": [
       "            STATE/UT         State_drop Area (in square kilometers)\n",
       "0      A & N ISLANDS      A & N ISLANDS                       8,249\n",
       "1     ANDHRA PRADESH     Andhra Pradesh                     160,205\n",
       "2  ARUNACHAL PRADESH  Arunachal Pradesh                      83,743\n",
       "3              ASSAM              Assam                      78,438\n",
       "4              BIHAR              Bihar                      94,163"
      ]
     },
     "execution_count": 7,
     "metadata": {},
     "output_type": "execute_result"
    }
   ],
   "source": [
    "df_area.head()"
   ]
  },
  {
   "cell_type": "markdown",
   "id": "274741ce",
   "metadata": {},
   "source": [
    "### In the above part what we have done is we have loaded the necessary data such as the area of each state, the literacy rate of each state and also the population of each state."
   ]
  },
  {
   "cell_type": "code",
   "execution_count": 8,
   "id": "1d92ca90",
   "metadata": {},
   "outputs": [
    {
     "data": {
      "text/plain": [
       "(9017, 33)"
      ]
     },
     "execution_count": 8,
     "metadata": {},
     "output_type": "execute_result"
    }
   ],
   "source": [
    "df_crimes.shape"
   ]
  },
  {
   "cell_type": "code",
   "execution_count": 9,
   "id": "b3cb9f1b",
   "metadata": {},
   "outputs": [],
   "source": [
    "temp = df_crimes.drop(df_crimes.iloc[:, 1:32], axis=1)"
   ]
  },
  {
   "cell_type": "code",
   "execution_count": 10,
   "id": "e99c0ee1",
   "metadata": {},
   "outputs": [
    {
     "data": {
      "text/html": [
       "<div>\n",
       "<style scoped>\n",
       "    .dataframe tbody tr th:only-of-type {\n",
       "        vertical-align: middle;\n",
       "    }\n",
       "\n",
       "    .dataframe tbody tr th {\n",
       "        vertical-align: top;\n",
       "    }\n",
       "\n",
       "    .dataframe thead th {\n",
       "        text-align: right;\n",
       "    }\n",
       "</style>\n",
       "<table border=\"1\" class=\"dataframe\">\n",
       "  <thead>\n",
       "    <tr style=\"text-align: right;\">\n",
       "      <th></th>\n",
       "      <th>STATE/UT</th>\n",
       "      <th>TOTAL IPC CRIMES</th>\n",
       "    </tr>\n",
       "  </thead>\n",
       "  <tbody>\n",
       "    <tr>\n",
       "      <th>0</th>\n",
       "      <td>ANDHRA PRADESH</td>\n",
       "      <td>4154</td>\n",
       "    </tr>\n",
       "    <tr>\n",
       "      <th>1</th>\n",
       "      <td>ANDHRA PRADESH</td>\n",
       "      <td>4125</td>\n",
       "    </tr>\n",
       "    <tr>\n",
       "      <th>2</th>\n",
       "      <td>ANDHRA PRADESH</td>\n",
       "      <td>5818</td>\n",
       "    </tr>\n",
       "    <tr>\n",
       "      <th>3</th>\n",
       "      <td>ANDHRA PRADESH</td>\n",
       "      <td>3140</td>\n",
       "    </tr>\n",
       "    <tr>\n",
       "      <th>4</th>\n",
       "      <td>ANDHRA PRADESH</td>\n",
       "      <td>6507</td>\n",
       "    </tr>\n",
       "  </tbody>\n",
       "</table>\n",
       "</div>"
      ],
      "text/plain": [
       "         STATE/UT  TOTAL IPC CRIMES\n",
       "0  ANDHRA PRADESH              4154\n",
       "1  ANDHRA PRADESH              4125\n",
       "2  ANDHRA PRADESH              5818\n",
       "3  ANDHRA PRADESH              3140\n",
       "4  ANDHRA PRADESH              6507"
      ]
     },
     "execution_count": 10,
     "metadata": {},
     "output_type": "execute_result"
    }
   ],
   "source": [
    "temp.head()"
   ]
  },
  {
   "cell_type": "markdown",
   "id": "d27cb8dd",
   "metadata": {},
   "source": [
    "### The data given us to as a prerequisite data was segregated in the form of districts of each state so what we have done is removed all the columns in middle of that gave us the measure names and just shown the crimes in each district of that particular state"
   ]
  },
  {
   "cell_type": "code",
   "execution_count": 11,
   "id": "c439cc76",
   "metadata": {},
   "outputs": [],
   "source": [
    "total_crimes = temp.groupby('STATE/UT').agg('sum')"
   ]
  },
  {
   "cell_type": "code",
   "execution_count": 12,
   "id": "b07d828a",
   "metadata": {},
   "outputs": [
    {
     "data": {
      "text/html": [
       "<div>\n",
       "<style scoped>\n",
       "    .dataframe tbody tr th:only-of-type {\n",
       "        vertical-align: middle;\n",
       "    }\n",
       "\n",
       "    .dataframe tbody tr th {\n",
       "        vertical-align: top;\n",
       "    }\n",
       "\n",
       "    .dataframe thead th {\n",
       "        text-align: right;\n",
       "    }\n",
       "</style>\n",
       "<table border=\"1\" class=\"dataframe\">\n",
       "  <thead>\n",
       "    <tr style=\"text-align: right;\">\n",
       "      <th></th>\n",
       "      <th>TOTAL IPC CRIMES</th>\n",
       "    </tr>\n",
       "    <tr>\n",
       "      <th>STATE/UT</th>\n",
       "      <th></th>\n",
       "    </tr>\n",
       "  </thead>\n",
       "  <tbody>\n",
       "    <tr>\n",
       "      <th>A &amp; N ISLANDS</th>\n",
       "      <td>18204</td>\n",
       "    </tr>\n",
       "    <tr>\n",
       "      <th>ANDHRA PRADESH</th>\n",
       "      <td>4037962</td>\n",
       "    </tr>\n",
       "    <tr>\n",
       "      <th>ARUNACHAL PRADESH</th>\n",
       "      <td>55304</td>\n",
       "    </tr>\n",
       "    <tr>\n",
       "      <th>ASSAM</th>\n",
       "      <td>1195528</td>\n",
       "    </tr>\n",
       "    <tr>\n",
       "      <th>BIHAR</th>\n",
       "      <td>2692586</td>\n",
       "    </tr>\n",
       "  </tbody>\n",
       "</table>\n",
       "</div>"
      ],
      "text/plain": [
       "                   TOTAL IPC CRIMES\n",
       "STATE/UT                           \n",
       "A & N ISLANDS                 18204\n",
       "ANDHRA PRADESH              4037962\n",
       "ARUNACHAL PRADESH             55304\n",
       "ASSAM                       1195528\n",
       "BIHAR                       2692586"
      ]
     },
     "execution_count": 12,
     "metadata": {},
     "output_type": "execute_result"
    }
   ],
   "source": [
    "total_crimes.head()"
   ]
  },
  {
   "cell_type": "markdown",
   "id": "f558a25f",
   "metadata": {},
   "source": [
    "### Now the total crimes are added together of all districts of each state and this is done for all the states of the country. this will give us the total crimes of each state for that particular year and this will be extremely helpful to us in the further analysis "
   ]
  },
  {
   "cell_type": "code",
   "execution_count": 13,
   "id": "c92fa1a0",
   "metadata": {},
   "outputs": [],
   "source": [
    "df_literacy = df_literacy.drop('State_drop', axis=1)\n",
    "df_population = df_population.drop('State_drop', axis=1)\n",
    "df_area = df_area.drop('State_drop', axis=1)"
   ]
  },
  {
   "cell_type": "code",
   "execution_count": 14,
   "id": "2247ade9",
   "metadata": {},
   "outputs": [
    {
     "data": {
      "text/html": [
       "<div>\n",
       "<style scoped>\n",
       "    .dataframe tbody tr th:only-of-type {\n",
       "        vertical-align: middle;\n",
       "    }\n",
       "\n",
       "    .dataframe tbody tr th {\n",
       "        vertical-align: top;\n",
       "    }\n",
       "\n",
       "    .dataframe thead th {\n",
       "        text-align: right;\n",
       "    }\n",
       "</style>\n",
       "<table border=\"1\" class=\"dataframe\">\n",
       "  <thead>\n",
       "    <tr style=\"text-align: right;\">\n",
       "      <th></th>\n",
       "      <th>STATE/UT</th>\n",
       "      <th>2011 Literacy Rate (%)</th>\n",
       "    </tr>\n",
       "  </thead>\n",
       "  <tbody>\n",
       "    <tr>\n",
       "      <th>0</th>\n",
       "      <td>A &amp; N ISLANDS</td>\n",
       "      <td>86.27</td>\n",
       "    </tr>\n",
       "    <tr>\n",
       "      <th>1</th>\n",
       "      <td>ANDHRA PRADESH</td>\n",
       "      <td>67.66</td>\n",
       "    </tr>\n",
       "    <tr>\n",
       "      <th>2</th>\n",
       "      <td>ARUNACHAL PRADESH</td>\n",
       "      <td>66.95</td>\n",
       "    </tr>\n",
       "    <tr>\n",
       "      <th>3</th>\n",
       "      <td>ASSAM</td>\n",
       "      <td>72.19</td>\n",
       "    </tr>\n",
       "    <tr>\n",
       "      <th>4</th>\n",
       "      <td>CHANDIGARH</td>\n",
       "      <td>63.82</td>\n",
       "    </tr>\n",
       "  </tbody>\n",
       "</table>\n",
       "</div>"
      ],
      "text/plain": [
       "            STATE/UT  2011 Literacy Rate (%)\n",
       "0      A & N ISLANDS                   86.27\n",
       "1     ANDHRA PRADESH                   67.66\n",
       "2  ARUNACHAL PRADESH                   66.95\n",
       "3              ASSAM                   72.19\n",
       "4         CHANDIGARH                   63.82"
      ]
     },
     "execution_count": 14,
     "metadata": {},
     "output_type": "execute_result"
    }
   ],
   "source": [
    "df_literacy.head()"
   ]
  },
  {
   "cell_type": "markdown",
   "id": "b2e6a283",
   "metadata": {},
   "source": [
    "### Similarly, The literacy rate for each state is shown in the above table"
   ]
  },
  {
   "cell_type": "code",
   "execution_count": 15,
   "id": "de8e0a25",
   "metadata": {},
   "outputs": [
    {
     "data": {
      "text/html": [
       "<div>\n",
       "<style scoped>\n",
       "    .dataframe tbody tr th:only-of-type {\n",
       "        vertical-align: middle;\n",
       "    }\n",
       "\n",
       "    .dataframe tbody tr th {\n",
       "        vertical-align: top;\n",
       "    }\n",
       "\n",
       "    .dataframe thead th {\n",
       "        text-align: right;\n",
       "    }\n",
       "</style>\n",
       "<table border=\"1\" class=\"dataframe\">\n",
       "  <thead>\n",
       "    <tr style=\"text-align: right;\">\n",
       "      <th></th>\n",
       "      <th>STATE/UT</th>\n",
       "      <th>Population</th>\n",
       "    </tr>\n",
       "  </thead>\n",
       "  <tbody>\n",
       "    <tr>\n",
       "      <th>0</th>\n",
       "      <td>A &amp; N ISLANDS</td>\n",
       "      <td>380,581</td>\n",
       "    </tr>\n",
       "    <tr>\n",
       "      <th>1</th>\n",
       "      <td>ANDHRA PRADESH</td>\n",
       "      <td>84,580,777</td>\n",
       "    </tr>\n",
       "    <tr>\n",
       "      <th>2</th>\n",
       "      <td>ARUNACHAL PRADESH</td>\n",
       "      <td>1,383,727</td>\n",
       "    </tr>\n",
       "    <tr>\n",
       "      <th>3</th>\n",
       "      <td>ASSAM</td>\n",
       "      <td>31,169,272</td>\n",
       "    </tr>\n",
       "    <tr>\n",
       "      <th>4</th>\n",
       "      <td>BIHAR</td>\n",
       "      <td>104,099,452</td>\n",
       "    </tr>\n",
       "  </tbody>\n",
       "</table>\n",
       "</div>"
      ],
      "text/plain": [
       "            STATE/UT   Population\n",
       "0      A & N ISLANDS      380,581\n",
       "1     ANDHRA PRADESH   84,580,777\n",
       "2  ARUNACHAL PRADESH    1,383,727\n",
       "3              ASSAM   31,169,272\n",
       "4              BIHAR  104,099,452"
      ]
     },
     "execution_count": 15,
     "metadata": {},
     "output_type": "execute_result"
    }
   ],
   "source": [
    "df_population.head()"
   ]
  },
  {
   "cell_type": "markdown",
   "id": "ee0973f9",
   "metadata": {},
   "source": [
    "### Population in all the particular state is shown above "
   ]
  },
  {
   "cell_type": "code",
   "execution_count": 16,
   "id": "0e328a04",
   "metadata": {},
   "outputs": [
    {
     "data": {
      "text/html": [
       "<div>\n",
       "<style scoped>\n",
       "    .dataframe tbody tr th:only-of-type {\n",
       "        vertical-align: middle;\n",
       "    }\n",
       "\n",
       "    .dataframe tbody tr th {\n",
       "        vertical-align: top;\n",
       "    }\n",
       "\n",
       "    .dataframe thead th {\n",
       "        text-align: right;\n",
       "    }\n",
       "</style>\n",
       "<table border=\"1\" class=\"dataframe\">\n",
       "  <thead>\n",
       "    <tr style=\"text-align: right;\">\n",
       "      <th></th>\n",
       "      <th>STATE/UT</th>\n",
       "      <th>Area (in square kilometers)</th>\n",
       "    </tr>\n",
       "  </thead>\n",
       "  <tbody>\n",
       "    <tr>\n",
       "      <th>0</th>\n",
       "      <td>A &amp; N ISLANDS</td>\n",
       "      <td>8,249</td>\n",
       "    </tr>\n",
       "    <tr>\n",
       "      <th>1</th>\n",
       "      <td>ANDHRA PRADESH</td>\n",
       "      <td>160,205</td>\n",
       "    </tr>\n",
       "    <tr>\n",
       "      <th>2</th>\n",
       "      <td>ARUNACHAL PRADESH</td>\n",
       "      <td>83,743</td>\n",
       "    </tr>\n",
       "    <tr>\n",
       "      <th>3</th>\n",
       "      <td>ASSAM</td>\n",
       "      <td>78,438</td>\n",
       "    </tr>\n",
       "    <tr>\n",
       "      <th>4</th>\n",
       "      <td>BIHAR</td>\n",
       "      <td>94,163</td>\n",
       "    </tr>\n",
       "  </tbody>\n",
       "</table>\n",
       "</div>"
      ],
      "text/plain": [
       "            STATE/UT Area (in square kilometers)\n",
       "0      A & N ISLANDS                       8,249\n",
       "1     ANDHRA PRADESH                     160,205\n",
       "2  ARUNACHAL PRADESH                      83,743\n",
       "3              ASSAM                      78,438\n",
       "4              BIHAR                      94,163"
      ]
     },
     "execution_count": 16,
     "metadata": {},
     "output_type": "execute_result"
    }
   ],
   "source": [
    "df_area.head()"
   ]
  },
  {
   "cell_type": "markdown",
   "id": "0545f9e9",
   "metadata": {},
   "source": [
    "### Area of all the states are shown above"
   ]
  },
  {
   "cell_type": "markdown",
   "id": "0d4bae10",
   "metadata": {},
   "source": [
    "# 1. Analysis of Population vs overall Crime"
   ]
  },
  {
   "cell_type": "code",
   "execution_count": 23,
   "id": "415feb32",
   "metadata": {},
   "outputs": [],
   "source": [
    "population_analysis_df = pd.merge(total_crimes, df_population, on='STATE/UT', how='inner')"
   ]
  },
  {
   "cell_type": "code",
   "execution_count": 24,
   "id": "c319d7d8",
   "metadata": {},
   "outputs": [
    {
     "data": {
      "text/html": [
       "<div>\n",
       "<style scoped>\n",
       "    .dataframe tbody tr th:only-of-type {\n",
       "        vertical-align: middle;\n",
       "    }\n",
       "\n",
       "    .dataframe tbody tr th {\n",
       "        vertical-align: top;\n",
       "    }\n",
       "\n",
       "    .dataframe thead th {\n",
       "        text-align: right;\n",
       "    }\n",
       "</style>\n",
       "<table border=\"1\" class=\"dataframe\">\n",
       "  <thead>\n",
       "    <tr style=\"text-align: right;\">\n",
       "      <th></th>\n",
       "      <th>STATE/UT</th>\n",
       "      <th>TOTAL IPC CRIMES</th>\n",
       "      <th>Population</th>\n",
       "    </tr>\n",
       "  </thead>\n",
       "  <tbody>\n",
       "    <tr>\n",
       "      <th>0</th>\n",
       "      <td>A &amp; N ISLANDS</td>\n",
       "      <td>18204</td>\n",
       "      <td>380,581</td>\n",
       "    </tr>\n",
       "    <tr>\n",
       "      <th>1</th>\n",
       "      <td>ANDHRA PRADESH</td>\n",
       "      <td>4037962</td>\n",
       "      <td>84,580,777</td>\n",
       "    </tr>\n",
       "    <tr>\n",
       "      <th>2</th>\n",
       "      <td>ARUNACHAL PRADESH</td>\n",
       "      <td>55304</td>\n",
       "      <td>1,383,727</td>\n",
       "    </tr>\n",
       "    <tr>\n",
       "      <th>3</th>\n",
       "      <td>ASSAM</td>\n",
       "      <td>1195528</td>\n",
       "      <td>31,169,272</td>\n",
       "    </tr>\n",
       "    <tr>\n",
       "      <th>4</th>\n",
       "      <td>BIHAR</td>\n",
       "      <td>2692586</td>\n",
       "      <td>104,099,452</td>\n",
       "    </tr>\n",
       "  </tbody>\n",
       "</table>\n",
       "</div>"
      ],
      "text/plain": [
       "            STATE/UT  TOTAL IPC CRIMES   Population\n",
       "0      A & N ISLANDS             18204      380,581\n",
       "1     ANDHRA PRADESH           4037962   84,580,777\n",
       "2  ARUNACHAL PRADESH             55304    1,383,727\n",
       "3              ASSAM           1195528   31,169,272\n",
       "4              BIHAR           2692586  104,099,452"
      ]
     },
     "execution_count": 24,
     "metadata": {},
     "output_type": "execute_result"
    }
   ],
   "source": [
    "population_analysis_df.head()"
   ]
  },
  {
   "cell_type": "markdown",
   "id": "0a59a00d",
   "metadata": {},
   "source": [
    "### Above, we have combined the total population and the total crimes of every state and union territory of the country. We peculiarly have to combine these using the state names so attention to details has to be observed while merging the two datasets that are need to be analysed. After combining we will undergo visual analysis to see what the data tells us"
   ]
  },
  {
   "cell_type": "code",
   "execution_count": 25,
   "id": "e90f4946",
   "metadata": {},
   "outputs": [
    {
     "data": {
      "text/plain": [
       "<AxesSubplot:xlabel='TOTAL IPC CRIMES', ylabel='Population'>"
      ]
     },
     "execution_count": 25,
     "metadata": {},
     "output_type": "execute_result"
    },
    {
     "data": {
      "image/png": "[encoded data removed]",
      "text/plain": [
       "<Figure size 432x288 with 1 Axes>"
      ]
     },
     "metadata": {
      "needs_background": "light"
     },
     "output_type": "display_data"
    }
   ],
   "source": [
    "population_analysis_df.plot(kind='scatter', x='TOTAL IPC CRIMES', y='Population', color='red')"
   ]
  },
  {
   "cell_type": "code",
   "execution_count": 47,
   "id": "b3538a8c",
   "metadata": {},
   "outputs": [
    {
     "data": {
      "text/plain": [
       "<AxesSubplot:>"
      ]
     },
     "execution_count": 47,
     "metadata": {},
     "output_type": "execute_result"
    },
    {
     "data": {
      "image/png": "[encoded data removed]",
      "text/plain": [
       "<Figure size 432x288 with 1 Axes>"
      ]
     },
     "metadata": {
      "needs_background": "light"
     },
     "output_type": "display_data"
    }
   ],
   "source": [
    "population_analysis_df.plot.bar()"
   ]
  },
  {
   "cell_type": "markdown",
   "id": "37b3caea",
   "metadata": {},
   "source": [
    "### We have above used scatter plot and bar plot to describe the merged data set. it tells us that bar a certain exceptions the states that have more number of population usually tend to have a high amount of crimes. "
   ]
  },
  {
   "cell_type": "markdown",
   "id": "d864376a",
   "metadata": {},
   "source": [
    "# 2. Analysis of Literacy Rate vs Total Crimes."
   ]
  },
  {
   "cell_type": "code",
   "execution_count": 20,
   "id": "564d467d",
   "metadata": {},
   "outputs": [],
   "source": [
    "literacy_analysis_df = pd.merge(total_crimes, df_literacy, on='STATE/UT', how='inner')"
   ]
  },
  {
   "cell_type": "code",
   "execution_count": 21,
   "id": "d0ce2fab",
   "metadata": {},
   "outputs": [
    {
     "data": {
      "text/html": [
       "<div>\n",
       "<style scoped>\n",
       "    .dataframe tbody tr th:only-of-type {\n",
       "        vertical-align: middle;\n",
       "    }\n",
       "\n",
       "    .dataframe tbody tr th {\n",
       "        vertical-align: top;\n",
       "    }\n",
       "\n",
       "    .dataframe thead th {\n",
       "        text-align: right;\n",
       "    }\n",
       "</style>\n",
       "<table border=\"1\" class=\"dataframe\">\n",
       "  <thead>\n",
       "    <tr style=\"text-align: right;\">\n",
       "      <th></th>\n",
       "      <th>STATE/UT</th>\n",
       "      <th>TOTAL IPC CRIMES</th>\n",
       "      <th>2011 Literacy Rate (%)</th>\n",
       "    </tr>\n",
       "  </thead>\n",
       "  <tbody>\n",
       "    <tr>\n",
       "      <th>0</th>\n",
       "      <td>A &amp; N ISLANDS</td>\n",
       "      <td>18204</td>\n",
       "      <td>86.27</td>\n",
       "    </tr>\n",
       "    <tr>\n",
       "      <th>1</th>\n",
       "      <td>ANDHRA PRADESH</td>\n",
       "      <td>4037962</td>\n",
       "      <td>67.66</td>\n",
       "    </tr>\n",
       "    <tr>\n",
       "      <th>2</th>\n",
       "      <td>ARUNACHAL PRADESH</td>\n",
       "      <td>55304</td>\n",
       "      <td>66.95</td>\n",
       "    </tr>\n",
       "    <tr>\n",
       "      <th>3</th>\n",
       "      <td>ASSAM</td>\n",
       "      <td>1195528</td>\n",
       "      <td>72.19</td>\n",
       "    </tr>\n",
       "    <tr>\n",
       "      <th>4</th>\n",
       "      <td>CHANDIGARH</td>\n",
       "      <td>81614</td>\n",
       "      <td>63.82</td>\n",
       "    </tr>\n",
       "  </tbody>\n",
       "</table>\n",
       "</div>"
      ],
      "text/plain": [
       "            STATE/UT  TOTAL IPC CRIMES  2011 Literacy Rate (%)\n",
       "0      A & N ISLANDS             18204                   86.27\n",
       "1     ANDHRA PRADESH           4037962                   67.66\n",
       "2  ARUNACHAL PRADESH             55304                   66.95\n",
       "3              ASSAM           1195528                   72.19\n",
       "4         CHANDIGARH             81614                   63.82"
      ]
     },
     "execution_count": 21,
     "metadata": {},
     "output_type": "execute_result"
    }
   ],
   "source": [
    "literacy_analysis_df.head()"
   ]
  },
  {
   "cell_type": "markdown",
   "id": "db6c4fd3",
   "metadata": {},
   "source": [
    "### We have above merged the total crimes data set along with literacy rate of each state and we will now compare how the literacy rate in each state affects the total crimes in that state."
   ]
  },
  {
   "cell_type": "code",
   "execution_count": 26,
   "id": "b59a5542",
   "metadata": {},
   "outputs": [
    {
     "data": {
      "text/plain": [
       "<AxesSubplot:xlabel='TOTAL IPC CRIMES', ylabel='2011 Literacy Rate (%)'>"
      ]
     },
     "execution_count": 26,
     "metadata": {},
     "output_type": "execute_result"
    },
    {
     "data": {
      "image/png": "[encoded data removed]",
      "text/plain": [
       "<Figure size 432x288 with 1 Axes>"
      ]
     },
     "metadata": {
      "needs_background": "light"
     },
     "output_type": "display_data"
    }
   ],
   "source": [
    "literacy_analysis_df.plot(kind='scatter', x='TOTAL IPC CRIMES', y='2011 Literacy Rate (%)', color='blue')"
   ]
  },
  {
   "cell_type": "code",
   "execution_count": 48,
   "id": "7c03ee92",
   "metadata": {},
   "outputs": [
    {
     "data": {
      "text/plain": [
       "<AxesSubplot:>"
      ]
     },
     "execution_count": 48,
     "metadata": {},
     "output_type": "execute_result"
    },
    {
     "data": {
      "image/png": "[encoded data removed]",
      "text/plain": [
       "<Figure size 432x288 with 1 Axes>"
      ]
     },
     "metadata": {
      "needs_background": "light"
     },
     "output_type": "display_data"
    }
   ],
   "source": [
    "literacy_analysis_df.plot.bar()"
   ]
  },
  {
   "cell_type": "markdown",
   "id": "7475838f",
   "metadata": {},
   "source": [
    "### The above visual analysis tells us that barring a few exceptions the state with the highest literacy rate has a lesser amount of crime. "
   ]
  },
  {
   "cell_type": "markdown",
   "id": "8156f07d",
   "metadata": {},
   "source": [
    "# 3. Analysis of area vs overall crime"
   ]
  },
  {
   "cell_type": "code",
   "execution_count": 27,
   "id": "47a59606",
   "metadata": {},
   "outputs": [],
   "source": [
    "area_analysis_df = pd.merge(total_crimes, df_area, on='STATE/UT', how='inner')"
   ]
  },
  {
   "cell_type": "code",
   "execution_count": 28,
   "id": "56519eea",
   "metadata": {},
   "outputs": [
    {
     "data": {
      "text/html": [
       "<div>\n",
       "<style scoped>\n",
       "    .dataframe tbody tr th:only-of-type {\n",
       "        vertical-align: middle;\n",
       "    }\n",
       "\n",
       "    .dataframe tbody tr th {\n",
       "        vertical-align: top;\n",
       "    }\n",
       "\n",
       "    .dataframe thead th {\n",
       "        text-align: right;\n",
       "    }\n",
       "</style>\n",
       "<table border=\"1\" class=\"dataframe\">\n",
       "  <thead>\n",
       "    <tr style=\"text-align: right;\">\n",
       "      <th></th>\n",
       "      <th>STATE/UT</th>\n",
       "      <th>TOTAL IPC CRIMES</th>\n",
       "      <th>Area (in square kilometers)</th>\n",
       "    </tr>\n",
       "  </thead>\n",
       "  <tbody>\n",
       "    <tr>\n",
       "      <th>0</th>\n",
       "      <td>A &amp; N ISLANDS</td>\n",
       "      <td>18204</td>\n",
       "      <td>8,249</td>\n",
       "    </tr>\n",
       "    <tr>\n",
       "      <th>1</th>\n",
       "      <td>ANDHRA PRADESH</td>\n",
       "      <td>4037962</td>\n",
       "      <td>160,205</td>\n",
       "    </tr>\n",
       "    <tr>\n",
       "      <th>2</th>\n",
       "      <td>ARUNACHAL PRADESH</td>\n",
       "      <td>55304</td>\n",
       "      <td>83,743</td>\n",
       "    </tr>\n",
       "    <tr>\n",
       "      <th>3</th>\n",
       "      <td>ASSAM</td>\n",
       "      <td>1195528</td>\n",
       "      <td>78,438</td>\n",
       "    </tr>\n",
       "    <tr>\n",
       "      <th>4</th>\n",
       "      <td>BIHAR</td>\n",
       "      <td>2692586</td>\n",
       "      <td>94,163</td>\n",
       "    </tr>\n",
       "  </tbody>\n",
       "</table>\n",
       "</div>"
      ],
      "text/plain": [
       "            STATE/UT  TOTAL IPC CRIMES Area (in square kilometers)\n",
       "0      A & N ISLANDS             18204                       8,249\n",
       "1     ANDHRA PRADESH           4037962                     160,205\n",
       "2  ARUNACHAL PRADESH             55304                      83,743\n",
       "3              ASSAM           1195528                      78,438\n",
       "4              BIHAR           2692586                      94,163"
      ]
     },
     "execution_count": 28,
     "metadata": {},
     "output_type": "execute_result"
    }
   ],
   "source": [
    "area_analysis_df.head()"
   ]
  },
  {
   "cell_type": "markdown",
   "id": "ad6a74d6",
   "metadata": {},
   "source": [
    "### We have now merged total crimes with overall crime dataset"
   ]
  },
  {
   "cell_type": "code",
   "execution_count": 29,
   "id": "88c0b619",
   "metadata": {},
   "outputs": [
    {
     "data": {
      "text/plain": [
       "<AxesSubplot:xlabel='TOTAL IPC CRIMES', ylabel='Area (in square kilometers)'>"
      ]
     },
     "execution_count": 29,
     "metadata": {},
     "output_type": "execute_result"
    },
    {
     "data": {
      "image/png": "[encoded data removed]",
      "text/plain": [
       "<Figure size 432x288 with 1 Axes>"
      ]
     },
     "metadata": {
      "needs_background": "light"
     },
     "output_type": "display_data"
    }
   ],
   "source": [
    "area_analysis_df.plot(kind='scatter', x='TOTAL IPC CRIMES', y='Area (in square kilometers)', color='yellow')"
   ]
  },
  {
   "cell_type": "code",
   "execution_count": 49,
   "id": "82dd5a9b",
   "metadata": {},
   "outputs": [
    {
     "data": {
      "text/plain": [
       "<AxesSubplot:>"
      ]
     },
     "execution_count": 49,
     "metadata": {},
     "output_type": "execute_result"
    },
    {
     "data": {
      "image/png": "[encoded data removed]",
      "text/plain": [
       "<Figure size 432x288 with 1 Axes>"
      ]
     },
     "metadata": {
      "needs_background": "light"
     },
     "output_type": "display_data"
    }
   ],
   "source": [
    "area_analysis_df.plot.bar()"
   ]
  },
  {
   "cell_type": "markdown",
   "id": "08075357",
   "metadata": {},
   "source": [
    "### Usually the state with more amount of areas tend to have more amount of crime but that is not an absolute and thus tend to have a few exceptions "
   ]
  },
  {
   "cell_type": "markdown",
   "id": "f9eff82f",
   "metadata": {},
   "source": [
    "# 4. Analysis of year-on-year total crime rate."
   ]
  },
  {
   "cell_type": "code",
   "execution_count": 30,
   "id": "870c8aa8",
   "metadata": {},
   "outputs": [],
   "source": [
    "temp_1 = df_crimes.drop(df_crimes.iloc[:, 3:32], axis=1)"
   ]
  },
  {
   "cell_type": "code",
   "execution_count": 31,
   "id": "191dd2ad",
   "metadata": {},
   "outputs": [],
   "source": [
    "year_df = temp_1.drop(temp_1.iloc[:, 0:2], axis=1)"
   ]
  },
  {
   "cell_type": "code",
   "execution_count": 32,
   "id": "2c337731",
   "metadata": {},
   "outputs": [
    {
     "data": {
      "text/html": [
       "<div>\n",
       "<style scoped>\n",
       "    .dataframe tbody tr th:only-of-type {\n",
       "        vertical-align: middle;\n",
       "    }\n",
       "\n",
       "    .dataframe tbody tr th {\n",
       "        vertical-align: top;\n",
       "    }\n",
       "\n",
       "    .dataframe thead th {\n",
       "        text-align: right;\n",
       "    }\n",
       "</style>\n",
       "<table border=\"1\" class=\"dataframe\">\n",
       "  <thead>\n",
       "    <tr style=\"text-align: right;\">\n",
       "      <th></th>\n",
       "      <th>YEAR</th>\n",
       "      <th>TOTAL IPC CRIMES</th>\n",
       "    </tr>\n",
       "  </thead>\n",
       "  <tbody>\n",
       "    <tr>\n",
       "      <th>0</th>\n",
       "      <td>2001</td>\n",
       "      <td>4154</td>\n",
       "    </tr>\n",
       "    <tr>\n",
       "      <th>1</th>\n",
       "      <td>2001</td>\n",
       "      <td>4125</td>\n",
       "    </tr>\n",
       "    <tr>\n",
       "      <th>2</th>\n",
       "      <td>2001</td>\n",
       "      <td>5818</td>\n",
       "    </tr>\n",
       "    <tr>\n",
       "      <th>3</th>\n",
       "      <td>2001</td>\n",
       "      <td>3140</td>\n",
       "    </tr>\n",
       "    <tr>\n",
       "      <th>4</th>\n",
       "      <td>2001</td>\n",
       "      <td>6507</td>\n",
       "    </tr>\n",
       "  </tbody>\n",
       "</table>\n",
       "</div>"
      ],
      "text/plain": [
       "   YEAR  TOTAL IPC CRIMES\n",
       "0  2001              4154\n",
       "1  2001              4125\n",
       "2  2001              5818\n",
       "3  2001              3140\n",
       "4  2001              6507"
      ]
     },
     "execution_count": 32,
     "metadata": {},
     "output_type": "execute_result"
    }
   ],
   "source": [
    "year_df.head()"
   ]
  },
  {
   "cell_type": "markdown",
   "id": "10ca5b28",
   "metadata": {},
   "source": [
    "### Above we have to analyse the crime rate. meaning that we have to differentiate crimes done yearly. Therefore we will remove all the columns that are not required and keep only two columns year and total crimes "
   ]
  },
  {
   "cell_type": "code",
   "execution_count": 33,
   "id": "b24b83cd",
   "metadata": {},
   "outputs": [],
   "source": [
    "total_year_crimes = year_df.groupby('YEAR').agg('sum')"
   ]
  },
  {
   "cell_type": "code",
   "execution_count": 34,
   "id": "6a89e5cf",
   "metadata": {},
   "outputs": [
    {
     "data": {
      "text/html": [
       "<div>\n",
       "<style scoped>\n",
       "    .dataframe tbody tr th:only-of-type {\n",
       "        vertical-align: middle;\n",
       "    }\n",
       "\n",
       "    .dataframe tbody tr th {\n",
       "        vertical-align: top;\n",
       "    }\n",
       "\n",
       "    .dataframe thead th {\n",
       "        text-align: right;\n",
       "    }\n",
       "</style>\n",
       "<table border=\"1\" class=\"dataframe\">\n",
       "  <thead>\n",
       "    <tr style=\"text-align: right;\">\n",
       "      <th></th>\n",
       "      <th>TOTAL IPC CRIMES</th>\n",
       "    </tr>\n",
       "    <tr>\n",
       "      <th>YEAR</th>\n",
       "      <th></th>\n",
       "    </tr>\n",
       "  </thead>\n",
       "  <tbody>\n",
       "    <tr>\n",
       "      <th>2001</th>\n",
       "      <td>3538616</td>\n",
       "    </tr>\n",
       "    <tr>\n",
       "      <th>2002</th>\n",
       "      <td>3560660</td>\n",
       "    </tr>\n",
       "    <tr>\n",
       "      <th>2003</th>\n",
       "      <td>3432240</td>\n",
       "    </tr>\n",
       "    <tr>\n",
       "      <th>2004</th>\n",
       "      <td>3664020</td>\n",
       "    </tr>\n",
       "    <tr>\n",
       "      <th>2005</th>\n",
       "      <td>3645204</td>\n",
       "    </tr>\n",
       "  </tbody>\n",
       "</table>\n",
       "</div>"
      ],
      "text/plain": [
       "      TOTAL IPC CRIMES\n",
       "YEAR                  \n",
       "2001           3538616\n",
       "2002           3560660\n",
       "2003           3432240\n",
       "2004           3664020\n",
       "2005           3645204"
      ]
     },
     "execution_count": 34,
     "metadata": {},
     "output_type": "execute_result"
    }
   ],
   "source": [
    "total_year_crimes.head()"
   ]
  },
  {
   "cell_type": "markdown",
   "id": "00bbb060",
   "metadata": {},
   "source": [
    "### We have grouped the data in terms of Year and added up total crimes from each district of each state and have combined them giving us the total crime commited in each year "
   ]
  },
  {
   "cell_type": "code",
   "execution_count": 42,
   "id": "73895ec0",
   "metadata": {},
   "outputs": [],
   "source": [
    "new_df = total_year_crimes.reset_index()"
   ]
  },
  {
   "cell_type": "code",
   "execution_count": 44,
   "id": "9c5ba4e3",
   "metadata": {},
   "outputs": [
    {
     "data": {
      "text/plain": [
       "<AxesSubplot:xlabel='TOTAL IPC CRIMES', ylabel='YEAR'>"
      ]
     },
     "execution_count": 44,
     "metadata": {},
     "output_type": "execute_result"
    },
    {
     "data": {
      "image/png": "[encoded data removed]",
      "text/plain": [
       "<Figure size 432x288 with 1 Axes>"
      ]
     },
     "metadata": {
      "needs_background": "light"
     },
     "output_type": "display_data"
    }
   ],
   "source": [
    "new_df.plot(kind='scatter', x='TOTAL IPC CRIMES', y='YEAR', color='orange')"
   ]
  },
  {
   "cell_type": "code",
   "execution_count": 50,
   "id": "3f60e328",
   "metadata": {},
   "outputs": [
    {
     "data": {
      "text/plain": [
       "<AxesSubplot:>"
      ]
     },
     "execution_count": 50,
     "metadata": {},
     "output_type": "execute_result"
    },
    {
     "data": {
      "image/png": "[encoded data removed]",
      "text/plain": [
       "<Figure size 432x288 with 1 Axes>"
      ]
     },
     "metadata": {
      "needs_background": "light"
     },
     "output_type": "display_data"
    }
   ],
   "source": [
    "new_df.plot.bar()"
   ]
  },
  {
   "cell_type": "markdown",
   "id": "e4ad60fa",
   "metadata": {},
   "source": [
    "### The above Visual analysys gives us the description of the yearly crime rate. it tells us that the crimes have increased yearly from 2002 to 2012"
   ]
  },
  {
   "cell_type": "markdown",
   "id": "ebdeb144",
   "metadata": {},
   "source": [
    "# Conclusion \n",
    "\n",
    "<br><font face = \"Muller Text\" size = \"4\"> <b> We can conclude from all the operations that we have done above that included removing columns. merging the required datasets for a particular analysis and then visual analysis is that Total crimes commited each year by criminals are a combination of multiple factors. we first considered the population criteria vs total crimes and came to the conclusion that population is directly related to the total crimes commited in that particular state. This makes sense because let's consider UP. UP has a lot of population meaning by just sheer probability it will have more number of criminals and more number of innocent people towards who the crimes would be commited. \n",
    "\n",
    "<br><font face = \"Muller Text\" size = \"4\"> <b> Secondly, we considered Literacy rate with the total crimes commited as the more educated a population dynamic of a state is the more sensible they would be. the more they would understand that commiting criminal activities is not humane. \n",
    "    \n",
    "<br><font face = \"Muller Text\" size = \"4\"> <b> Lastly we considered the factor of area vs total crimes, This is an important aspect too because bigger the state the more people it would have and more the people the more crimes we will be see commited towards the people of that state.\n",
    "    \n",
    "### All in all we can conclude that when all the three factors, Population, area and Literacy rate are important and are directly related to the total crimes commited in each state or union territory. "
   ]
  },
  {
   "cell_type": "code",
   "execution_count": null,
   "id": "dbafcb84",
   "metadata": {},
   "outputs": [],
   "source": []
  }
 ],
 "metadata": {
  "kernelspec": {
   "display_name": "Python 3",
   "language": "python",
   "name": "python3"
  },
  "language_info": {
   "codemirror_mode": {
    "name": "ipython",
    "version": 3
   },
   "file_extension": ".py",
   "mimetype": "text/x-python",
   "name": "python",
   "nbconvert_exporter": "python",
   "pygments_lexer": "ipython3",
   "version": "3.8.8"
  }
 },
 "nbformat": 4,
 "nbformat_minor": 5
}
